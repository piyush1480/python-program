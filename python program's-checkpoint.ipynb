{
 "cells": [
  {
   "cell_type": "code",
   "execution_count": 1,
   "id": "5f2706f6",
   "metadata": {},
   "outputs": [
    {
     "name": "stdout",
     "output_type": "stream",
     "text": [
      "Hello world!\n"
     ]
    }
   ],
   "source": [
    "print(\"Hello world!\")"
   ]
  },
  {
   "cell_type": "code",
   "execution_count": 1,
   "id": "d12fcfd4",
   "metadata": {},
   "outputs": [
    {
     "name": "stdout",
     "output_type": "stream",
     "text": [
      "Enter first number 12\n",
      "Enter second number 14\n",
      "Sum is  26\n"
     ]
    }
   ],
   "source": [
    "#program to add two number \n",
    "a=int(input(\"Enter first number \"))\n",
    "b=int(input(\"Enter second number \"))\n",
    "print(\"Sum is \",a+b)\n"
   ]
  },
  {
   "cell_type": "code",
   "execution_count": 3,
   "id": "18e7e0f4",
   "metadata": {},
   "outputs": [
    {
     "name": "stdout",
     "output_type": "stream",
     "text": [
      "Enter a number 25\n",
      "5.0\n"
     ]
    }
   ],
   "source": [
    "#sqroot of a number\n",
    "import math\n",
    "n=int(input(\"Enter a number \"))\n",
    "a=print(math.sqrt(n))\n"
   ]
  },
  {
   "cell_type": "code",
   "execution_count": 5,
   "id": "a8be7f2f",
   "metadata": {},
   "outputs": [
    {
     "name": "stdout",
     "output_type": "stream",
     "text": [
      "Enter the base 12\n",
      "Enter the height 13\n",
      "78.0\n"
     ]
    }
   ],
   "source": [
    "#area of a triangle\n",
    "b=int(input(\"Enter the base \"))\n",
    "h=int(input(\"Enter the height \"))\n",
    "area=print((1/2)*b*h)\n"
   ]
  },
  {
   "cell_type": "code",
   "execution_count": 7,
   "id": "ab805465",
   "metadata": {},
   "outputs": [
    {
     "name": "stdout",
     "output_type": "stream",
     "text": [
      "Enter the first number 12\n",
      "Enter the secod number 23\n",
      "Number before swap  12 23\n",
      "Number after swap 23 12\n"
     ]
    }
   ],
   "source": [
    "#swaping two number\n",
    "a=int(input(\"Enter the first number \"))\n",
    "b=int(input(\"Enter the secod number \"))\n",
    "print(\"Number before swap \", a ,b)\n",
    "a,b=b,a \n",
    "print(\"Number after swap\" ,a ,b)\n"
   ]
  },
  {
   "cell_type": "code",
   "execution_count": 9,
   "id": "d60d2223",
   "metadata": {},
   "outputs": [
    {
     "name": "stdout",
     "output_type": "stream",
     "text": [
      "Enter the distance in km 1000\n",
      "Distance in mile is   625.0\n"
     ]
    }
   ],
   "source": [
    "#convert km to mile \n",
    "n=int(input(\"Enter the distance in km \"))\n",
    "mile=0.625*n\n",
    "print(\"Distance in mile is  \",mile)\n"
   ]
  },
  {
   "cell_type": "code",
   "execution_count": 11,
   "id": "4498be12",
   "metadata": {},
   "outputs": [
    {
     "name": "stdout",
     "output_type": "stream",
     "text": [
      "Enter the tempreture in celsius37\n",
      "tempreture in fahrenheit is  98.60000000000001\n"
     ]
    }
   ],
   "source": [
    "#convert tempreture celsius to fahrenheit\n",
    "c=int(input(\"Enter the tempreture in celsius\"))\n",
    "f=(c*(9/5))+32\n",
    "print(\"tempreture in fahrenheit is \",f)\n"
   ]
  },
  {
   "cell_type": "code",
   "execution_count": 13,
   "id": "3f1a8ede",
   "metadata": {},
   "outputs": [
    {
     "name": "stdout",
     "output_type": "stream",
     "text": [
      "Enter a  number 12\n",
      "number is postive\n"
     ]
    }
   ],
   "source": [
    "#check a number negative postive or zero\n",
    "n=int(input(\"Enter a  number \"))\n",
    "if n>0:\n",
    "    print(\"number is postive\")\n",
    "elif(n==0):\n",
    "    print(\"Number is zero \")\n",
    "else:\n",
    "    print(\"Number is negative\")\n",
    "    \n",
    "    \n"
   ]
  },
  {
   "cell_type": "code",
   "execution_count": 15,
   "id": "b866af22",
   "metadata": {},
   "outputs": [
    {
     "name": "stdout",
     "output_type": "stream",
     "text": [
      "Enter a number 13\n",
      "Number is odd\n"
     ]
    }
   ],
   "source": [
    "#check a number even or odd\n",
    "n=int(input(\"Enter a number \"))\n",
    "if n%2==0:\n",
    "    print(\"Number is even\")\n",
    "else:\n",
    "    print(\"Number is odd\")\n"
   ]
  },
  {
   "cell_type": "code",
   "execution_count": 17,
   "id": "5b86ec31",
   "metadata": {},
   "outputs": [
    {
     "name": "stdout",
     "output_type": "stream",
     "text": [
      "Enter a year 2000\n",
      "year is leap year \n"
     ]
    }
   ],
   "source": [
    "#check a year leap year or not\n",
    "year=int(input(\"Enter a year \"))\n",
    "if year%400==0:\n",
    "    print(\"year is leap year \")\n",
    "elif year%100==0:\n",
    "    print(\"year is not leap yaer \")\n",
    "elif year%4==0:\n",
    "    print(\"year is leap year \")\n",
    "else:\n",
    "    print(\"year is not a leap\")\n"
   ]
  },
  {
   "cell_type": "code",
   "execution_count": 20,
   "id": "ef446e40",
   "metadata": {},
   "outputs": [
    {
     "name": "stdout",
     "output_type": "stream",
     "text": [
      "Enter first number 12\n",
      "Enter second number 87\n",
      "Enter third number 49\n",
      "b is gretest number \n"
     ]
    }
   ],
   "source": [
    "#check the biggest number among three\n",
    "a=int(input(\"Enter first number \"))\n",
    "b=int(input(\"Enter second number \"))\n",
    "c=int(input(\"Enter third number \"))\n",
    "if a>b and a>c:\n",
    "    print(\"a is gretest number \")\n",
    "elif b>c:\n",
    "    print(\"b is gretest number \")\n",
    "else:\n",
    "    print(\"c is gretest number \")\n",
    "    \n",
    "\n"
   ]
  },
  {
   "cell_type": "code",
   "execution_count": 22,
   "id": "7f9dcfcb",
   "metadata": {},
   "outputs": [
    {
     "name": "stdout",
     "output_type": "stream",
     "text": [
      "Enter a number 29\n",
      "29 is prime number\n"
     ]
    }
   ],
   "source": [
    "#check a number prime or not\n",
    "n=int(input(\"Enter a number \"))\n",
    "flag=0\n",
    "for i in range (2,n):\n",
    "    if n%i==0:\n",
    "        flag=1 \n",
    "if flag==0:\n",
    "    print(n,\"is prime number\")\n"
   ]
  },
  {
   "cell_type": "code",
   "execution_count": 26,
   "id": "72d2710f",
   "metadata": {},
   "outputs": [
    {
     "name": "stdout",
     "output_type": "stream",
     "text": [
      "Enter starting point100\n",
      "Enter ending point200\n",
      "101\n",
      "103\n",
      "107\n",
      "109\n",
      "113\n",
      "127\n",
      "131\n",
      "137\n",
      "139\n",
      "149\n",
      "151\n",
      "157\n",
      "163\n",
      "167\n",
      "173\n",
      "179\n",
      "181\n",
      "191\n",
      "193\n",
      "197\n",
      "199\n"
     ]
    }
   ],
   "source": [
    "#check prime number in a given intervel\n",
    "\n",
    "st=int(input(\"Enter starting point\"))\n",
    "en=int(input(\"Enter ending point\"))\n",
    "for i in range(st,en+1,1):\n",
    "    flag=0\n",
    "    for j in range(2,i):\n",
    "        if i%j==0:\n",
    "            flag=1\n",
    "    if flag==0:\n",
    "        print(i)\n"
   ]
  },
  {
   "cell_type": "code",
   "execution_count": 28,
   "id": "4cf034dd",
   "metadata": {},
   "outputs": [
    {
     "name": "stdout",
     "output_type": "stream",
     "text": [
      "Enter a number 6\n",
      "factorial is  720\n"
     ]
    }
   ],
   "source": [
    "#factorial of a number\n",
    "n=int(input(\"Enter a number \"))\n",
    "fact=1\n",
    "for i in range(1,n+1):\n",
    "    fact=fact*i\n",
    "print(\"factorial is \",fact)    \n"
   ]
  },
  {
   "cell_type": "code",
   "execution_count": 25,
   "id": "1b325060",
   "metadata": {},
   "outputs": [
    {
     "name": "stdout",
     "output_type": "stream",
     "text": [
      "Enter a number 100\n",
      "Factor of  100 is  [1, 2, 4, 5, 10, 20, 25, 50, 100]\n"
     ]
    }
   ],
   "source": [
    "# program to find the factor\n",
    "n=int(input(\"Enter a number \"))\n",
    "li=[]\n",
    "for i in range(1,n+1):\n",
    "    if n%i==0:\n",
    "        li.append(i)\n",
    "print(\"Factor of \",n,\"is \", li)        "
   ]
  },
  {
   "cell_type": "markdown",
   "id": "793f40a1",
   "metadata": {},
   "source": [
    "\n",
    "    \n",
    "    "
   ]
  },
  {
   "cell_type": "code",
   "execution_count": 6,
   "id": "9c740097",
   "metadata": {},
   "outputs": [
    {
     "name": "stdout",
     "output_type": "stream",
     "text": [
      "Enter the first number 12\n",
      "Enter second number 6\n",
      "12 is divisible by 6\n"
     ]
    }
   ],
   "source": [
    "# find the divisibilty of another number\n",
    "a=int(input(\"Enter the first number \"))\n",
    "b=int(input(\"Enter second number \"))\n",
    "if a%b==0:\n",
    "    print(a,\"is divisible by\",b)"
   ]
  },
  {
   "cell_type": "code",
   "execution_count": 19,
   "id": "6691c995",
   "metadata": {},
   "outputs": [
    {
     "name": "stdout",
     "output_type": "stream",
     "text": [
      "enter a number 2\n",
      "4\n",
      "None\n"
     ]
    }
   ],
   "source": [
    "# power of 2 using anonymous function\n",
    "n=int(input(\"enter a number \"))\n",
    "print(pow(n))\n",
    "\n",
    "pow=lambda n:n**2\n"
   ]
  },
  {
   "cell_type": "code",
   "execution_count": 22,
   "id": "03a69fd7",
   "metadata": {},
   "outputs": [
    {
     "name": "stdout",
     "output_type": "stream",
     "text": [
      "Enter the number up to series be print 10\n",
      "0\n",
      "1\n",
      "1\n",
      "2\n",
      "3\n",
      "5\n",
      "8\n",
      "13\n",
      "21\n",
      "34\n",
      "55\n"
     ]
    }
   ],
   "source": [
    "# 32.fibbonacci sequnce using recursion\n",
    "def fib(a):\n",
    "    if a==0 or a==1:\n",
    "        return a\n",
    "    else:\n",
    "         return fib(a-1)+fib(a-2)\n",
    "n=int(input(\"Enter the number up to series be print \"))\n",
    "for i in range(n+1):\n",
    "    print(fib(i))\n",
    "\n"
   ]
  },
  {
   "cell_type": "code",
   "execution_count": 24,
   "id": "99aa50d0",
   "metadata": {},
   "outputs": [
    {
     "name": "stdout",
     "output_type": "stream",
     "text": [
      "Enter the year 1999\n",
      "Enter the month7\n",
      "     July 1999\n",
      "Mo Tu We Th Fr Sa Su\n",
      "          1  2  3  4\n",
      " 5  6  7  8  9 10 11\n",
      "12 13 14 15 16 17 18\n",
      "19 20 21 22 23 24 25\n",
      "26 27 28 29 30 31\n",
      "\n"
     ]
    }
   ],
   "source": [
    "import calendar\n",
    "year=int(input(\"Enter the year \"))\n",
    "month=int(input(\"Enter the month\"))\n",
    "print(calendar.month(year,month))"
   ]
  },
  {
   "cell_type": "code",
   "execution_count": 30,
   "id": "936a644f",
   "metadata": {},
   "outputs": [
    {
     "name": "stdout",
     "output_type": "stream",
     "text": [
      "enter a number up to sum be print 10\n",
      "55\n"
     ]
    }
   ],
   "source": [
    "# sum of n natural number by using recursion\n",
    "def sum(x):\n",
    "    s=0\n",
    "    if x==0:\n",
    "        return s\n",
    "    else:\n",
    "        return s+x+sum(x-1)\n",
    "n=int(input(\"enter a number up to sum be print \"))\n",
    "print(sum(n))"
   ]
  },
  {
   "cell_type": "code",
   "execution_count": 31,
   "id": "89e26402",
   "metadata": {},
   "outputs": [
    {
     "name": "stdout",
     "output_type": "stream",
     "text": [
      "Enter a number 5\n",
      "120\n"
     ]
    }
   ],
   "source": [
    "# factorial of a number using recursion\n",
    "def fact(x):\n",
    "    f=1\n",
    "    if x==0 or x==1:\n",
    "        return 1\n",
    "    else:\n",
    "        return x*fact(x-1)\n",
    " \n",
    "n=int(input(\"Enter a number \"))\n",
    "print(fact(n))"
   ]
  },
  {
   "cell_type": "code",
   "execution_count": 39,
   "id": "47924afd",
   "metadata": {},
   "outputs": [
    {
     "name": "stdout",
     "output_type": "stream",
     "text": [
      "Enter a decimal  number 12\n",
      "The binary number is \n",
      "01100"
     ]
    }
   ],
   "source": [
    "# convert a decimal number to binary by recursion\n",
    "def dec_bin(x):\n",
    "    if x>=1:\n",
    "        dec_bin(x//2)\n",
    "    print(x%2,end=\"\")\n",
    "      \n",
    "if __name__ == '__main__':\n",
    "    num=int(input(\"Enter a decimal  number \"))\n",
    "    print(\"The binary number is \" ) \n",
    "    dec_bin(num)          \n",
    "          "
   ]
  },
  {
   "cell_type": "code",
   "execution_count": 42,
   "id": "ea5b4758",
   "metadata": {},
   "outputs": [
    {
     "name": "stdout",
     "output_type": "stream",
     "text": [
      "([3, 48, 39], [14, 17, 21], [34, 23, 34])\n"
     ]
    }
   ],
   "source": [
    "# 36.add of two matrix\n",
    "mat1=[1,3,5],[2,4,7],[23,13,22]\n",
    "mat2=[2,45,34],[12,13,14],[11,10,12]\n",
    "mat3=[0,0,0],[0,0,0],[0,0,0]\n",
    "\n",
    "for i in range(len(mat1)):\n",
    "    for j in range(len(mat1[0])):\n",
    "        mat3[i][j]=mat1[i][j]+mat2[i][j]\n",
    "print(mat3)        \n",
    "        "
   ]
  },
  {
   "cell_type": "code",
   "execution_count": null,
   "id": "f8c1c293",
   "metadata": {},
   "outputs": [],
   "source": [
    "mat1=[]\n",
    "tra=[]\n",
    "r=int(input(\"Enter the number of row \"))\n",
    "c=int(input(\"Enter the number of coloum\"))\n",
    "print(\"Enter the element of matrix \")\n",
    "for i in range(r):\n",
    "    a=[]\n",
    "    for j in range(c):\n",
    "        a.append(int(input()))\n",
    "    mat1.append(a)   \n",
    "   \n",
    "    \n",
    "    '''logic for transpose '''\n",
    "for i in range(c):\n",
    "    for j in range(r):\n",
    "        tra[i][j]=mat1[j][i]\n",
    "        \n",
    "for i in range(2):\n",
    "    for j in range(1):\n",
    "        print(tra[i][j],end=' ')\n",
    "    print()    \n",
    "    "
   ]
  },
  {
   "cell_type": "code",
   "execution_count": 54,
   "id": "8fea199f",
   "metadata": {},
   "outputs": [
    {
     "name": "stdout",
     "output_type": "stream",
     "text": [
      "Enter a string nitin\n",
      "nitin\n",
      "palindrom\n"
     ]
    }
   ],
   "source": [
    "s1=input(\"Enter a string \")\n",
    "l1=len(s1)\n",
    "s2=[]\n",
    "for i in range(l1-1,-1,-1):\n",
    "    s2.append(s1[i])\n",
    "\n",
    "def list_string(s2):\n",
    "    s=''\n",
    "    return(s.join(s2))\n",
    "\n",
    "print(list_string(s2))   \n",
    "if s1==list_string(s2):\n",
    "    print(\"palindrom\")  "
   ]
  },
  {
   "cell_type": "code",
   "execution_count": 3,
   "id": "4770ef11",
   "metadata": {},
   "outputs": [
    {
     "name": "stdout",
     "output_type": "stream",
     "text": [
      "Enter number of row in first matrix 3\n",
      "Enter number of coloumn in first matrix 3\n",
      "Enter number of row in second matrix 3\n",
      "Enter number of coloumn in second matrix 3\n",
      "1\n",
      "2\n",
      "3\n",
      "4\n",
      "5\n",
      "6\n",
      "7\n",
      "8\n",
      "9\n",
      "12\n",
      "11\n",
      "10\n",
      "2\n",
      "4\n",
      "7\n",
      "8\n",
      "6\n",
      "4\n",
      "40 37 36 \n",
      "106 100 99 \n",
      "172 163 162 \n"
     ]
    }
   ],
   "source": [
    "#program to  multiply two matrix\n",
    "import numpy as np\n",
    "r1=int(input(\"Enter number of row in first matrix \"))\n",
    "c1=int(input(\"Enter number of coloumn in first matrix \"))\n",
    "r2=int(input(\"Enter number of row in second matrix \"))\n",
    "c2=int(input(\"Enter number of coloumn in second matrix \"))\n",
    "mat1=[]\n",
    "mat2=[]\n",
    "mul=[]\n",
    "for i in range(r1):\n",
    "    a=[]\n",
    "    for i in range(c1):\n",
    "        a.append(int(input()))\n",
    "    mat1.append(a)    \n",
    "for i in range(r2):\n",
    "    b=[]\n",
    "    for i in range(c2):\n",
    "        b.append(int(input()))\n",
    "    mat2.append(b)        \n",
    "if c1==r2:\n",
    "    mul=np.dot(mat1,mat2)\n",
    "for i in range(r1):\n",
    "    for j in range(c1):\n",
    "        print(mul[i][j],end=' ')\n",
    "    print()    "
   ]
  },
  {
   "cell_type": "code",
   "execution_count": null,
   "id": "89e18b6b",
   "metadata": {},
   "outputs": [],
   "source": [
    "s1= \"Gfg, is best : for ! Geeks ;\"\n",
    "punc= !()-[]{};:\\,<>./?@#$%^&*_~\n",
    "for ele in s1:\n",
    "    if ele in punc:\n",
    "        s1=s1.replace(j,\"\")\n",
    "print(s1)        "
   ]
  },
  {
   "cell_type": "code",
   "execution_count": 2,
   "id": "7b81ed31",
   "metadata": {},
   "outputs": [
    {
     "name": "stdout",
     "output_type": "stream",
     "text": [
      "Enter a string zebra banana orange grapes apple van\n",
      "['apple', 'banana', 'grapes', 'orange', 'van', 'zebra']\n"
     ]
    }
   ],
   "source": [
    "#sort words by alphabetically order\n",
    "s=input(\"Enter a string \")\n",
    "li=[]\n",
    "li=s.split()\n",
    "li.sort()\n",
    "print(li)"
   ]
  },
  {
   "cell_type": "code",
   "execution_count": 1,
   "id": "99d511d3",
   "metadata": {},
   "outputs": [
    {
     "name": "stdout",
     "output_type": "stream",
     "text": [
      "      \n",
      "     *\n",
      "    ***\n",
      "   *****\n",
      "  *******\n",
      " *********\n"
     ]
    }
   ],
   "source": [
    "#print pyramid pattern\n",
    "for i in range(6):\n",
    "    for j in range(6-i):\n",
    "        print(end=\" \")\n",
    "    for k in range(i):\n",
    "        print(\"*\",end=\"\")\n",
    "    for l in range(i-1):\n",
    "        print(\"*\",end='')\n",
    "    print()    "
   ]
  },
  {
   "cell_type": "code",
   "execution_count": 6,
   "id": "f58b613c",
   "metadata": {},
   "outputs": [
    {
     "name": "stdout",
     "output_type": "stream",
     "text": [
      "{1: 'Apple', 2: 'orange', 3: 'grapes', 4: 'Dog', 5: 'cat', 6: 'fish'}\n"
     ]
    }
   ],
   "source": [
    "#merge two dictionaries\n",
    "d1={1:\"Apple\",2:\"orange\",3:\"grapes\"}\n",
    "d2={4:\"Dog\",5:\"cat\",6:\"fish\"}\n",
    "d={}\n",
    "d={**d1,**d2}\n",
    "print(d)"
   ]
  },
  {
   "cell_type": "code",
   "execution_count": 12,
   "id": "956cc4dc",
   "metadata": {},
   "outputs": [
    {
     "name": "stdout",
     "output_type": "stream",
     "text": [
      "Original List [[1, 2, 3, 4], [5, 6, 7], [8, 9, 10]]\n",
      "Transformed Flat List [1, 2, 3, 4, 5, 6, 7, 8, 9, 10]\n"
     ]
    }
   ],
   "source": [
    "# flat list from nested list\n",
    "def flat(_2d_l):\n",
    "    l1 = []\n",
    "    for element in _2d_l:\n",
    "        if type(element) is list:\n",
    "            for item in element:\n",
    "                l1.append(item)\n",
    "        else:\n",
    "            l1.append(element)\n",
    "    return l1\n",
    "\n",
    "nested_list = [[1, 2, 3, 4], [5, 6, 7], [8, 9, 10]]\n",
    "print('Original List', nested_list)\n",
    "print('Transformed Flat List', flat(nested_list))"
   ]
  },
  {
   "cell_type": "code",
   "execution_count": 16,
   "id": "60519e52",
   "metadata": {},
   "outputs": [
    {
     "name": "stdout",
     "output_type": "stream",
     "text": [
      "1\n",
      "7\n",
      "8\n",
      "34\n",
      "78\n",
      "25\n",
      "9\n",
      "98\n",
      "32\n",
      "17\n"
     ]
    }
   ],
   "source": [
    "#access index of a list using for loop \n",
    "l1=[1,7,8,34,78,25,9,98,32,17]\n",
    "for i in range(len(l1)):\n",
    "    print(l1[i])"
   ]
  },
  {
   "cell_type": "code",
   "execution_count": 18,
   "id": "8f2aa634",
   "metadata": {},
   "outputs": [
    {
     "name": "stdout",
     "output_type": "stream",
     "text": [
      "[23, 45, 67, 89, 24, 56, 78, 84, 12, 30, 27, 63]\n",
      "[56, 78, 84, 12, 30, 27, 63]\n",
      "[23, 45, 67, 89, 24, 56, 78, 84]\n"
     ]
    }
   ],
   "source": [
    "#slice a list\n",
    "\n",
    "lis=[23,45,67,89,24,56,78,84,12,30,27,63]\n",
    "print(lis[::])\n",
    "print(lis[5:])\n",
    "print(lis[:8])"
   ]
  },
  {
   "cell_type": "code",
   "execution_count": 19,
   "id": "2d4c7d1a",
   "metadata": {},
   "outputs": [
    {
     "name": "stdout",
     "output_type": "stream",
     "text": [
      "{33, 70, 40, 10, 44, 50, 51, 20, 60, 30}\n",
      "{10, 50, 20, 30}\n",
      "{40, 60, 70}\n",
      "{33, 51, 44}\n",
      "{70, 33, 40, 44, 51, 60}\n",
      "False\n",
      "False\n"
     ]
    }
   ],
   "source": [
    "#illustrate diffrent set operation\n",
    "\n",
    "a={10,20,30,40,50,60,70}\n",
    "b={33,44,51,10,20,50,30,33}\n",
    "print(a|b)        #union of two set\n",
    "print(a&b)        #intersection of two set\n",
    "print(a-b)         #difference of two set\n",
    "print(b-a)\n",
    "print(a^b)\n",
    "print(a>=b)\n",
    "print(b<=a)\n",
    "print(a )"
   ]
  },
  {
   "cell_type": "code",
   "execution_count": 1,
   "id": "27687a09",
   "metadata": {},
   "outputs": [
    {
     "name": "stdout",
     "output_type": "stream",
     "text": [
      "1 correspond to  apple\n",
      "2 correspond to  banana\n",
      "3 correspond to  orange\n",
      "4 correspond to  grapes\n",
      "5 correspond to  melon\n"
     ]
    }
   ],
   "source": [
    "#iterate over dictionaries using for loop \n",
    "d={1:'apple',2:'banana',3:'orange', 4:'grapes', 5:'melon'}\n",
    "for key in d:\n",
    "    print(key,'correspond to ',d[key])"
   ]
  },
  {
   "cell_type": "code",
   "execution_count": 15,
   "id": "2218360a",
   "metadata": {},
   "outputs": [
    {
     "name": "stdout",
     "output_type": "stream",
     "text": [
      "['apple', 'cat', 'dog', 'grapes', 'mango', 'melon', 'orange']\n"
     ]
    }
   ],
   "source": [
    "#sort a dictionary by value\n",
    "\n",
    "di={1:'melon',2:'orange',3:'apple',4:'grapes',5:'mango',6:'dog',7:'cat'}\n",
    "d1=sorted(di.values())\n",
    "print(d1)"
   ]
  },
  {
   "cell_type": "code",
   "execution_count": 18,
   "id": "c2f34c71",
   "metadata": {},
   "outputs": [
    {
     "name": "stdout",
     "output_type": "stream",
     "text": [
      "list is empty\n"
     ]
    }
   ],
   "source": [
    "#check a list empty or not\n",
    "lst=[]\n",
    "if not lst:\n",
    "    print(\"list is empty\")"
   ]
  },
  {
   "cell_type": "code",
   "execution_count": 22,
   "id": "aeef5233",
   "metadata": {},
   "outputs": [
    {
     "name": "stdout",
     "output_type": "stream",
     "text": [
      "[1, 2, 3, 4, 5, 6, 7, 8, 9, 10, 11]\n"
     ]
    }
   ],
   "source": [
    "#concatnate two list\n",
    "\n",
    "l1=[1,3,5,7,9,11]\n",
    "l2=[2,4,6,8,10]\n",
    "l3=[]\n",
    "l3=l1+l2\n",
    "print(sorted(l3))"
   ]
  },
  {
   "cell_type": "code",
   "execution_count": 23,
   "id": "2a346359",
   "metadata": {},
   "outputs": [
    {
     "name": "stdout",
     "output_type": "stream",
     "text": [
      "enter serch key 3\n",
      "Already prsent \n"
     ]
    }
   ],
   "source": [
    "# check if a key is already present or not in a dictionary\n",
    "d1={1:\"apple\",2:'orange',3:'grapes',4:'orange',5:'mango'}\n",
    "key=int(input(\"enter serch key \"))\n",
    "if key in d1:\n",
    "    print(\"Already prsent \")\n",
    "    "
   ]
  },
  {
   "cell_type": "code",
   "execution_count": 25,
   "id": "c8a42614",
   "metadata": {},
   "outputs": [
    {
     "name": "stdout",
     "output_type": "stream",
     "text": [
      "1.add\n",
      "2.subtract\n",
      "3.multyply\n",
      "4.divide\n",
      "Enter first number 12\n",
      "Enter second number 11\n",
      "Enter your choice(1/2/3/4)1\n",
      "12 + 11 is  23\n",
      "Are you want to do another operation (Yes or no)\n",
      "yes/noyes\n",
      "Enter your choice(1/2/3/4)2\n",
      "12 - 11 is 1\n",
      "Are you want to do another operation (Yes or no)\n",
      "yes/nono\n"
     ]
    }
   ],
   "source": [
    "#simple calculator program\n",
    "\n",
    "print(\"1.add\") \n",
    "print(\"2.subtract\")\n",
    "print(\"3.multyply\")\n",
    "print(\"4.divide\")\n",
    "a=int(input(\"Enter first number \")) \n",
    "b=int(input(\"Enter second number \")) \n",
    "while True: \n",
    "    choice=int(input(\"Enter your choice(1/2/3/4)\"))\n",
    "    if choice==1:\n",
    "        print(a,\"+\",b,\"is \",(a+b))\n",
    "    elif choice==2:\n",
    "        print(a,\"-\",b, \"is\",(a-b))\n",
    "    elif choice==3: \n",
    "        print(a,\"*\",b,\"is\",(a*b)) \n",
    "    elif choice==4:\n",
    "        print(a,\"//\",b,\"is\",(a//b)) \n",
    "    print(\"Are you want to do another operation (Yes or no)\") \n",
    "    op=input(\"yes/no\")\n",
    "    if op=='no':\n",
    "      break"
   ]
  },
  {
   "cell_type": "code",
   "execution_count": 26,
   "id": "e8f6159e",
   "metadata": {},
   "outputs": [
    {
     "name": "stdout",
     "output_type": "stream",
     "text": [
      "Enter the number up to table be print 4\n",
      "1 2 3 4 5 6 7 8 9 10 \n",
      "2 4 6 8 10 12 14 16 18 20 \n",
      "3 6 9 12 15 18 21 24 27 30 \n",
      "4 8 12 16 20 24 28 32 36 40 \n"
     ]
    }
   ],
   "source": [
    "#table\n",
    "n=int(input(\"Enter the number up to table be print \"))\n",
    "mul=1\n",
    "for i  in range(1,n+1):\n",
    "    for j in range(1,11):\n",
    "        mul=i*j \n",
    "        print(mul,end=\" \")\n",
    "    print()  \n"
   ]
  },
  {
   "cell_type": "code",
   "execution_count": 27,
   "id": "a29b1fec",
   "metadata": {},
   "outputs": [
    {
     "name": "stdout",
     "output_type": "stream",
     "text": [
      "Enter a numer ut to series be printed 6\n",
      "0\n",
      "1\n",
      "1\n",
      "2\n",
      "3\n",
      "5\n",
      "8\n"
     ]
    }
   ],
   "source": [
    "#fibonacci  sequence\n",
    "n=int(input(\"Enter a numer ut to series be printed \"))\n",
    "p=1\n",
    "pp=0 \n",
    "print(pp)\n",
    "print(p)\n",
    "for i in range(n-1):\n",
    "    nx=p+pp\n",
    "    print(nx)\n",
    "    pp=p\n",
    "    p=nx\n"
   ]
  },
  {
   "cell_type": "code",
   "execution_count": 28,
   "id": "7f0abcef",
   "metadata": {},
   "outputs": [
    {
     "name": "stdout",
     "output_type": "stream",
     "text": [
      "8\n"
     ]
    }
   ],
   "source": [
    "#generate randon number \n",
    "import random\n",
    "n=random.randint(1,30)\n",
    "print(n)\n"
   ]
  },
  {
   "cell_type": "code",
   "execution_count": 29,
   "id": "b6e39754",
   "metadata": {},
   "outputs": [
    {
     "name": "stdout",
     "output_type": "stream",
     "text": [
      "Enter a number 153\n",
      "Number is armstrong\n"
     ]
    }
   ],
   "source": [
    "#check armstrong number\n",
    "n=int(input(\"Enter a number \"))\n",
    "res=0\n",
    "sum=0\n",
    "temp=n\n",
    "while temp!=0:\n",
    "    res=temp%10\n",
    "    sum=sum+res**3\n",
    "    temp=temp//10\n",
    "if n==sum:\n",
    "    print(\"Number is armstrong\")\n"
   ]
  },
  {
   "cell_type": "code",
   "execution_count": 31,
   "id": "91553052",
   "metadata": {},
   "outputs": [
    {
     "name": "stdout",
     "output_type": "stream",
     "text": [
      "Enter the stating point 100\n",
      "Enter the ending point 1000\n",
      "153\n",
      "370\n",
      "371\n",
      "407\n"
     ]
    }
   ],
   "source": [
    "#chech armstrong number in a given interval\n",
    "st=int(input(\"Enter the stating point \"))\n",
    "en=int(input(\"Enter the ending point \"))\n",
    "for i in range(st,en,1):\n",
    "    res=0\n",
    "    sum=0 \n",
    "    temp=i\n",
    "    while temp!=0:\n",
    "        res=temp%10\n",
    "        sum=sum+res**3\n",
    "        temp=temp//10\n",
    "    if i==sum:\n",
    "      print(i)\n",
    "\n"
   ]
  },
  {
   "cell_type": "code",
   "execution_count": 32,
   "id": "9ef90c69",
   "metadata": {},
   "outputs": [
    {
     "name": "stdout",
     "output_type": "stream",
     "text": [
      "Enter the number up to sum 19\n",
      "sum is  190\n"
     ]
    }
   ],
   "source": [
    "#sum of n natural number \n",
    "n=int(input(\"Enter the number up to sum \"))\n",
    "sum=0\n",
    "for i in range(1,n+1):\n",
    "    sum=sum+i \n",
    "print(\"sum is \",sum)    \n"
   ]
  },
  {
   "cell_type": "code",
   "execution_count": 34,
   "id": "3eb070dc",
   "metadata": {},
   "outputs": [
    {
     "name": "stdout",
     "output_type": "stream",
     "text": [
      "Enter first number 20\n",
      "Enter second number 40\n",
      "[1, 2, 4, 5, 10, 20]\n",
      "[1, 2, 4, 5, 8, 10, 20, 40]\n",
      "HCF of a and b is 20\n"
     ]
    }
   ],
   "source": [
    "#HCF of two number \n",
    "a=int(input(\"Enter first number \"))\n",
    "b=int(input(\"Enter second number \"))\n",
    "l1=[]\n",
    "l2=[]\n",
    "l3=[]\n",
    "for i in range(1,a+1):\n",
    "    if a%i==0:\n",
    "        l1.append(i)\n",
    "for i in range(1,b+1):\n",
    "    if b%i==0:\n",
    "        l2.append(i)        \n",
    "print(l1) \n",
    "print(l2)\n",
    "for i in range(len(l1)):\n",
    "    var=l1[i]\n",
    "    for j in range(len(l2)):\n",
    "        if var==l2[j]:\n",
    "            l3.append(var)\n",
    "print(\"HCF of a and b is\", max(l3))\n",
    "\n",
    "\n"
   ]
  },
  {
   "cell_type": "code",
   "execution_count": 35,
   "id": "116fb446",
   "metadata": {},
   "outputs": [
    {
     "name": "stdout",
     "output_type": "stream",
     "text": [
      "Enter first number 40\n",
      "Enter second number 45\n",
      "[1, 2, 4, 5, 8, 10, 20, 40]\n",
      "[1, 3, 5, 9, 15, 45]\n",
      "360.0\n"
     ]
    }
   ],
   "source": [
    "#LCM of  two number\n",
    "a=int(input(\"Enter first number \"))\n",
    "b=int(input(\"Enter second number \"))\n",
    "l1=[]\n",
    "l2=[]\n",
    "l3=[]\n",
    "for i in range(1,a+1):\n",
    "    if a%i==0:\n",
    "        l1.append(i)\n",
    "for i in range(1,b+1):\n",
    "    if b%i==0:\n",
    "        l2.append(i)        \n",
    "print(l1) \n",
    "print(l2)\n",
    "for i in range(len(l1)):\n",
    "    var=l1[i]\n",
    "    for j in range(len(l2)):\n",
    "        if var==l2[j]:\n",
    "            l3.append(var)\n",
    "lcm=(a*b)/max(l3)\n",
    "print(lcm)\n",
    "\n",
    "\n"
   ]
  },
  {
   "cell_type": "code",
   "execution_count": 36,
   "id": "868853f0",
   "metadata": {},
   "outputs": [
    {
     "name": "stdout",
     "output_type": "stream",
     "text": [
      "Enter any charcter c\n",
      "99\n"
     ]
    }
   ],
   "source": [
    "#AsCII value of a charecter\n",
    "c=input(\"Enter any charcter \")\n",
    "print(ord(c))\n"
   ]
  },
  {
   "cell_type": "code",
   "execution_count": 39,
   "id": "f3e3f84c",
   "metadata": {},
   "outputs": [
    {
     "name": "stdout",
     "output_type": "stream",
     "text": [
      "Enter a string piyush tripathi\n",
      "Number of vowel in  string is  5\n"
     ]
    }
   ],
   "source": [
    "s1=input(\"Enter a string \")\n",
    "v=0\n",
    "for var in s1:\n",
    "    if var=='a'or var=='e'or var=='i'or var=='o'or var=='u'or var=='A'or var=='E'or var=='I'or var=='O'or var=='U':\n",
    "        v=v+1\n",
    "print(\"Number of vowel in  string is \",v)        "
   ]
  },
  {
   "cell_type": "code",
   "execution_count": 42,
   "id": "9c745b5e",
   "metadata": {},
   "outputs": [
    {
     "name": "stdout",
     "output_type": "stream",
     "text": [
      "\u001b[31mI am student of B.Tech 3rd year\n"
     ]
    }
   ],
   "source": [
    "import colorama\n",
    "from colorama import Fore\n",
    "print(Fore.RED+\"I am student of B.Tech 3rd year\")"
   ]
  },
  {
   "cell_type": "code",
   "execution_count": null,
   "id": "1ead6345",
   "metadata": {},
   "outputs": [],
   "source": []
  }
 ],
 "metadata": {
  "kernelspec": {
   "display_name": "Python 3",
   "language": "python",
   "name": "python3"
  },
  "language_info": {
   "codemirror_mode": {
    "name": "ipython",
    "version": 3
   },
   "file_extension": ".py",
   "mimetype": "text/x-python",
   "name": "python",
   "nbconvert_exporter": "python",
   "pygments_lexer": "ipython3",
   "version": "3.8.8"
  }
 },
 "nbformat": 4,
 "nbformat_minor": 5
}
